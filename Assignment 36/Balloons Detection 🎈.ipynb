{
 "cells": [
  {
   "cell_type": "code",
   "execution_count": 4,
   "metadata": {},
   "outputs": [],
   "source": [
    "import cv2\n",
    "import numpy as np\n",
    "import matplotlib.pyplot as plt"
   ]
  },
  {
   "cell_type": "code",
   "execution_count": 13,
   "metadata": {},
   "outputs": [
    {
     "data": {
      "text/plain": [
       "True"
      ]
     },
     "execution_count": 13,
     "metadata": {},
     "output_type": "execute_result"
    }
   ],
   "source": [
    "img_Balloons = cv2.imread('inpurt/Balloons Detection1.jpg')\n",
    "Balloons= cv2.cvtColor(img_Balloons, cv2.COLOR_BGR2HSV)\n",
    "lower_hue = np.array([160,0,0]) \n",
    "upper_hue = np.array([180,255,255])\n",
    "mask = cv2.inRange(Balloons, lower_hue, upper_hue)\n",
    "result = cv2.bitwise_and(img_Balloons,img_Balloons, mask= mask)\n",
    "\n",
    "cv2.imwrite('ouput/pink_balloons.jpg', result)"
   ]
  }
 ],
 "metadata": {
  "interpreter": {
   "hash": "3f896502c6676e9bd799ba227dda5f8f3c0e745dff36a4f34a129a15c6544034"
  },
  "kernelspec": {
   "display_name": "Python 3.10.8 64-bit",
   "language": "python",
   "name": "python3"
  },
  "language_info": {
   "codemirror_mode": {
    "name": "ipython",
    "version": 3
   },
   "file_extension": ".py",
   "mimetype": "text/x-python",
   "name": "python",
   "nbconvert_exporter": "python",
   "pygments_lexer": "ipython3",
   "version": "3.10.8"
  },
  "orig_nbformat": 4
 },
 "nbformat": 4,
 "nbformat_minor": 2
}
