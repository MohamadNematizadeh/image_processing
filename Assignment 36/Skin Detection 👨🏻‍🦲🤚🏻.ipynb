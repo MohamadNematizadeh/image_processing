{
 "cells": [
  {
   "cell_type": "code",
   "execution_count": 1,
   "metadata": {},
   "outputs": [],
   "source": [
    "import cv2\n",
    "import numpy as np\n",
    "\n",
    "cap = cv2.VideoCapture(0)\n",
    "\n",
    "def main():\n",
    "    while True:\n",
    "        ret, frame = cap.read()\n",
    "        if not ret:\n",
    "            break    \n",
    "\n",
    "        frame_hsv = cv2.cvtColor(frame, cv2.COLOR_BGR2HSV)###\n",
    "        HSV_mask = cv2.inRange(frame_hsv, (0, 20, 0), (15,150,255)) \n",
    "        HSV_mask = cv2.morphologyEx(HSV_mask, cv2.MORPH_OPEN, np.ones((3,3), np.uint8))\n",
    "        HSV_result = cv2.bitwise_not(HSV_mask)\n",
    "\n",
    "        img_YCrCb = cv2.cvtColor(frame, cv2.COLOR_BGR2YCrCb)\n",
    "        YCrCb_mask = cv2.inRange(img_YCrCb, (0, 135, 85), (255,180,135)) \n",
    "        YCrCb_mask = cv2.morphologyEx(YCrCb_mask, cv2.MORPH_OPEN, np.ones((3,3), np.uint8))\n",
    "        YCrCb_result = cv2.bitwise_not(YCrCb_mask)\n",
    "\n",
    "        global_mask=cv2.bitwise_and(HSV_result, YCrCb_result)\n",
    "        global_mask=cv2.medianBlur(global_mask,3)\n",
    "        global_mask = cv2.morphologyEx(global_mask, cv2.MORPH_OPEN, np.ones((4,4), np.uint8))\n",
    "        global_result=cv2.bitwise_not(global_mask)\n",
    "\n",
    "        skin = cv2.bitwise_and(frame, frame, mask = global_result)\n",
    "        cv2.imshow('cam', skin)\n",
    "\n",
    "        if cv2.waitKey(1) & 0xFF == ord('q'):\n",
    "            break\n",
    "\n",
    "if __name__=='__main__':\n",
    "    main()\n",
    "    cap.release()\n",
    "    cv2.destroyAllWindows()"
   ]
  }
 ],
 "metadata": {
  "interpreter": {
   "hash": "3f896502c6676e9bd799ba227dda5f8f3c0e745dff36a4f34a129a15c6544034"
  },
  "kernelspec": {
   "display_name": "Python 3.10.8 64-bit",
   "language": "python",
   "name": "python3"
  },
  "language_info": {
   "codemirror_mode": {
    "name": "ipython",
    "version": 3
   },
   "file_extension": ".py",
   "mimetype": "text/x-python",
   "name": "python",
   "nbconvert_exporter": "python",
   "pygments_lexer": "ipython3",
   "version": "3.10.8"
  },
  "orig_nbformat": 4
 },
 "nbformat": 4,
 "nbformat_minor": 2
}
