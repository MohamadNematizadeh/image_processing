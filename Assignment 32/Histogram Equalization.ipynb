{
 "cells": [
  {
   "cell_type": "code",
   "execution_count": 8,
   "metadata": {},
   "outputs": [
    {
     "data": {
      "text/plain": [
       "True"
      ]
     },
     "execution_count": 8,
     "metadata": {},
     "output_type": "execute_result"
    }
   ],
   "source": [
    "img = cv.imread('input/4.png',0)\n",
    "equ = cv.equalizeHist(img)\n",
    "res = np.hstack((img,equ)) #stacking images side-by-side\n",
    "cv.imwrite('res2.png',res)"
   ]
  },
  {
   "cell_type": "code",
   "execution_count": 22,
   "metadata": {},
   "outputs": [
    {
     "data": {
      "text/plain": [
       "True"
      ]
     },
     "execution_count": 22,
     "metadata": {},
     "output_type": "execute_result"
    }
   ],
   "source": [
    "\n",
    "import numpy as np\n",
    "import cv2\n",
    "# Load the image in greyscale\n",
    "img = cv2.imread('input/YLv1GMi1NsisDv5_1920.jpg',2)\n",
    "\n",
    "# create a CLAHE object (Arguments are optional).\n",
    "clahe = cv2.createCLAHE(clipLimit=0.1, tileGridSize=(1,1))\n",
    "out = clahe.apply(img)\n",
    " \n",
    "# Display the images side by side using cv2.hconcat\n",
    "out1 = cv2.hconcat([img,out])\n",
    "cv2.imwrite('res4.png',out1)"
   ]
  }
 ],
 "metadata": {
  "interpreter": {
   "hash": "3f896502c6676e9bd799ba227dda5f8f3c0e745dff36a4f34a129a15c6544034"
  },
  "kernelspec": {
   "display_name": "Python 3.10.8 64-bit",
   "language": "python",
   "name": "python3"
  },
  "language_info": {
   "codemirror_mode": {
    "name": "ipython",
    "version": 3
   },
   "file_extension": ".py",
   "mimetype": "text/x-python",
   "name": "python",
   "nbconvert_exporter": "python",
   "pygments_lexer": "ipython3",
   "version": "3.10.8"
  },
  "orig_nbformat": 4
 },
 "nbformat": 4,
 "nbformat_minor": 2
}
