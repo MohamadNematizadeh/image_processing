{
 "cells": [
  {
   "cell_type": "code",
   "execution_count": 63,
   "metadata": {},
   "outputs": [],
   "source": [
    "import cv2\n",
    "import numpy as np\n",
    "import matplotlib.pyplot as plt\n",
    "from PIL import ImageFont, ImageDraw, Image\n",
    "\n"
   ]
  },
  {
   "cell_type": "code",
   "execution_count": 67,
   "metadata": {},
   "outputs": [
    {
     "data": {
      "text/plain": [
       "<matplotlib.image.AxesImage at 0x19657718640>"
      ]
     },
     "execution_count": 67,
     "metadata": {},
     "output_type": "execute_result"
    },
    {
     "data": {
      "image/png": "[encoded data removed]",
      "text/plain": [
       "<Figure size 640x480 with 1 Axes>"
      ]
     },
     "metadata": {},
     "output_type": "display_data"
    }
   ],
   "source": [
    "logo = np.ones((630, 1260, 3), dtype = \"uint8\") * 130\n",
    "plt.imshow(logo)"
   ]
  },
  {
   "cell_type": "code",
   "execution_count": 68,
   "metadata": {},
   "outputs": [
    {
     "data": {
      "text/plain": [
       "True"
      ]
     },
     "execution_count": 68,
     "metadata": {},
     "output_type": "execute_result"
    }
   ],
   "source": [
    "logo[150:250, 150:250] = (246, 83, 20)\n",
    "\n",
    "logo[260:360, 150:250] = (0, 161, 241)\n",
    "\n",
    "logo[150:250, 260:360] = (124, 187, 0)\n",
    "\n",
    "logo[260:360, 260:360] = (255, 187, 0)\n",
    "\n",
    "fontpath = \"font/seguisb.ttf\"     \n",
    "font = ImageFont.truetype(fontpath, size=130)\n",
    "\n",
    "img_pil = Image.fromarray(logo)\n",
    "draw = ImageDraw.Draw(img_pil)\n",
    "draw.text((450, 230),  \"Microsoft\", font = font)\n",
    "logo = np.array(img_pil)\n",
    "#cv2.putText(logo, \"Microsoft\", (470, 360), cv2.FONT_HERSHEY_SIMPLEX, 4, (255, 255, 255), 12)\n",
    "logo = cv2.cvtColor(logo, cv2.COLOR_RGB2BGR)\n",
    "cv2.imwrite('logo.jpg', logo)"
   ]
  }
 ],
 "metadata": {
  "interpreter": {
   "hash": "3f896502c6676e9bd799ba227dda5f8f3c0e745dff36a4f34a129a15c6544034"
  },
  "kernelspec": {
   "display_name": "Python 3.10.8 64-bit",
   "language": "python",
   "name": "python3"
  },
  "language_info": {
   "codemirror_mode": {
    "name": "ipython",
    "version": 3
   },
   "file_extension": ".py",
   "mimetype": "text/x-python",
   "name": "python",
   "nbconvert_exporter": "python",
   "pygments_lexer": "ipython3",
   "version": "3.10.8"
  },
  "orig_nbformat": 4
 },
 "nbformat": 4,
 "nbformat_minor": 2
}
