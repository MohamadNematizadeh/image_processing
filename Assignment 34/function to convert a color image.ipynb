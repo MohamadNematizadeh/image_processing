{
 "cells": [
  {
   "cell_type": "code",
   "execution_count": 16,
   "metadata": {},
   "outputs": [
    {
     "data": {
      "text/plain": [
       "True"
      ]
     },
     "execution_count": 16,
     "metadata": {},
     "output_type": "execute_result"
    }
   ],
   "source": [
    "import cv2\n",
    "import numpy as np\n",
    "def convert_to_grayscale(image):\n",
    "    height, width, channels = image.shape\n",
    "    gray_image = np.zeros((height, width), dtype=np.uint8)\n",
    "    for y in range(height):\n",
    "        for x in range(width):\n",
    "            r, g, b = image[y,x]\n",
    "            gray_value = int(0.2989 * r + 0.5870 * g + 0.1140 * b)\n",
    "            gray_image[y,x] = gray_value\n",
    "\n",
    "    return gray_image\n",
    "\n",
    "image = cv2.imread('input/1.jpg')\n",
    "img = convert_to_grayscale(image)\n",
    "cv2.imwrite('output/color_image.jpg', img)"
   ]
  }
 ],
 "metadata": {
  "interpreter": {
   "hash": "3f896502c6676e9bd799ba227dda5f8f3c0e745dff36a4f34a129a15c6544034"
  },
  "kernelspec": {
   "display_name": "Python 3.10.8 64-bit",
   "language": "python",
   "name": "python3"
  },
  "language_info": {
   "codemirror_mode": {
    "name": "ipython",
    "version": 3
   },
   "file_extension": ".py",
   "mimetype": "text/x-python",
   "name": "python",
   "nbconvert_exporter": "python",
   "pygments_lexer": "ipython3",
   "version": "3.10.8"
  },
  "orig_nbformat": 4
 },
 "nbformat": 4,
 "nbformat_minor": 2
}
