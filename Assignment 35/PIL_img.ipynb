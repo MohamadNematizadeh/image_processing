{
 "cells": [
  {
   "cell_type": "code",
   "execution_count": 3,
   "metadata": {},
   "outputs": [],
   "source": [
    "# pip install pillow\n",
    "from PIL import  Image,ImageDraw, ImageFont\n",
    "import arabic_reshaper\n",
    "from bidi.algorithm import get_display\n",
    "import numpy as np\n",
    "import matplotlib.pyplot as plt"
   ]
  },
  {
   "cell_type": "code",
   "execution_count": 4,
   "metadata": {},
   "outputs": [
    {
     "name": "stderr",
     "output_type": "stream",
     "text": [
      "C:\\Users\\98915\\AppData\\Local\\Temp\\ipykernel_3716\\2005151700.py:15: DeprecationWarning: textsize is deprecated and will be removed in Pillow 10 (2023-07-01). Use textbbox or textlength instead.\n",
      "  text_size = draw.textsize(text, font)\n"
     ]
    }
   ],
   "source": [
    "\n",
    "# Open an Image\n",
    "# Open the image\n",
    "image =  Image.open(\"input/Unequalized_Hawkes_Bay_NZ.jpg\")\n",
    "\n",
    "# Create a drawing context\n",
    "draw = ImageDraw.Draw(image)\n",
    "\n",
    "# Define the font and size\n",
    "font = ImageFont.truetype(\"arial.ttf\", 36)\n",
    "\n",
    "# Define the text to write\n",
    "text = arabic_reshaper.reshape(u'فارسی نویسی در پایتون')\n",
    "bidi_text = get_display(text)\n",
    "# Get the size of the text\n",
    "text_size = draw.textsize(text, font)\n",
    "\n",
    "# Calculate the position to write the text\n",
    "x = (image.width - text_size[0]) / 2\n",
    "y = (image.height - text_size[1]) / 2\n",
    "\n",
    "# Write the text on the image\n",
    "draw.text((x, y), text, font=font, fill=(0, 0, 255))\n",
    "\n",
    "# Save the image with the text\n",
    "image.show(\"example_with_text.jpg\")\n",
    "\n"
   ]
  }
 ],
 "metadata": {
  "interpreter": {
   "hash": "3f896502c6676e9bd799ba227dda5f8f3c0e745dff36a4f34a129a15c6544034"
  },
  "kernelspec": {
   "display_name": "Python 3.10.8 64-bit",
   "language": "python",
   "name": "python3"
  },
  "language_info": {
   "codemirror_mode": {
    "name": "ipython",
    "version": 3
   },
   "file_extension": ".py",
   "mimetype": "text/x-python",
   "name": "python",
   "nbconvert_exporter": "python",
   "pygments_lexer": "ipython3",
   "version": "3.10.8"
  },
  "orig_nbformat": 4
 },
 "nbformat": 4,
 "nbformat_minor": 2
}
